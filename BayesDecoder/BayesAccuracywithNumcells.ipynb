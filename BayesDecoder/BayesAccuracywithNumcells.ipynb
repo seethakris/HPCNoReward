{
 "cells": [
  {
   "cell_type": "code",
   "execution_count": 1,
   "metadata": {},
   "outputs": [],
   "source": [
    "import os\n",
    "import scipy.io\n",
    "import matplotlib.pyplot as plt\n",
    "import numpy as np\n",
    "import seaborn as sns\n",
    "sns.set_context('paper', font_scale=1.2)\n",
    "import pandas as pd\n",
    "from sklearn.model_selection import KFold\n",
    "import scipy.stats\n",
    "import warnings\n",
    "from copy import copy\n",
    "\n",
    "warnings.filterwarnings(\"ignore\")\n",
    "%matplotlib inline\n",
    "%load_ext autoreload\n",
    "%autoreload 2"
   ]
  },
  {
   "cell_type": "code",
   "execution_count": 2,
   "metadata": {},
   "outputs": [
    {
     "name": "stderr",
     "output_type": "stream",
     "text": [
      "Using TensorFlow backend.\n"
     ]
    },
    {
     "name": "stdout",
     "output_type": "stream",
     "text": [
      "Validation functions\n",
      "Validation functions\n"
     ]
    }
   ],
   "source": [
    "#Plotting function\n",
    "from PlotDecodingResults import ModelPredictionPlots\n",
    "from sklearn.model_selection import train_test_split\n",
    "from sklearn.utils.random import sample_without_replacement\n",
    "from RunBayesonNorewardData import PrepareBehaviorData as PreBeh\n",
    "from RunBayesonNorewardData import PreprocessData as PreD\n",
    "from RunBayesonNorewardData import RunNaiveBayes_ondata as rnb\n",
    "\n",
    "rnb = rnb()\n",
    "PreD = PreD()\n",
    "m = ModelPredictionPlots()"
   ]
  },
  {
   "cell_type": "markdown",
   "metadata": {},
   "source": [
    "## Prepare datasets"
   ]
  },
  {
   "cell_type": "code",
   "execution_count": 3,
   "metadata": {},
   "outputs": [],
   "source": [
    "task_dict = {'Task1':'1 Fam Rew', \n",
    "             'Task2':'2 No Rew No Lick', \n",
    "             'Task3':'3 Fam Rew', \n",
    "             'Task4':'4 Nov Rew'}"
   ]
  },
  {
   "cell_type": "code",
   "execution_count": 4,
   "metadata": {},
   "outputs": [],
   "source": [
    "FolderName = '/home/sheffieldlab/Desktop/NoReward/ImagingData/Good_behavior/NR6/'\n",
    "\n",
    "frame_lick_stop = 5154\n",
    "task_numframes = {'Task1': 20000, \n",
    "                  'Task2': 20000, \n",
    "                  'Task3': 15000, \n",
    "                  'Task4': 15000}\n",
    "#Track Parameters\n",
    "tracklength = 200 #2m track\n",
    "trackbins = 5 #5cm bins"
   ]
  },
  {
   "cell_type": "code",
   "execution_count": 5,
   "metadata": {},
   "outputs": [
    {
     "name": "stdout",
     "output_type": "stream",
     "text": [
      "Number of PlaceCells in Task2 is 129\n",
      "Number of PlaceCells in Task1 is 133\n",
      "Number of PlaceCells in Task3 is 123\n",
      "Number of PlaceCells in Task4 is 119\n",
      "Number of PlaceCells in Task2a is 129\n"
     ]
    }
   ],
   "source": [
    "from Placecells_and_LickCorrelation_EachAnimal import GetData as gd\n",
    "A = gd(FolderName=FolderName, Task_NumFrames=task_numframes, TaskDict=task_dict, lick_stop=frame_lick_stop)"
   ]
  },
  {
   "cell_type": "markdown",
   "metadata": {},
   "source": [
    "### Control Data"
   ]
  },
  {
   "cell_type": "code",
   "execution_count": 6,
   "metadata": {
    "scrolled": true
   },
   "outputs": [
    {
     "name": "stdout",
     "output_type": "stream",
     "text": [
      "(12298, 316) (12298, 1)\n"
     ]
    },
    {
     "ename": "NameError",
     "evalue": "name 'pred' is not defined",
     "output_type": "error",
     "traceback": [
      "\u001b[0;31m---------------------------------------------------------------------------\u001b[0m",
      "\u001b[0;31mNameError\u001b[0m                                 Traceback (most recent call last)",
      "\u001b[0;32m<ipython-input-6-b33d36b8d1eb>\u001b[0m in \u001b[0;36m<module>\u001b[0;34m\u001b[0m\n\u001b[1;32m      3\u001b[0m \u001b[0mY\u001b[0m \u001b[0;34m=\u001b[0m \u001b[0mA\u001b[0m\u001b[0;34m.\u001b[0m\u001b[0mParsed_Behavior\u001b[0m\u001b[0;34m[\u001b[0m\u001b[0;34m'good_running_data'\u001b[0m\u001b[0;34m]\u001b[0m\u001b[0;34m.\u001b[0m\u001b[0mitem\u001b[0m\u001b[0;34m(\u001b[0m\u001b[0;34m)\u001b[0m\u001b[0;34m[\u001b[0m\u001b[0;34m'Task1'\u001b[0m\u001b[0;34m]\u001b[0m\u001b[0;34m\u001b[0m\u001b[0;34m\u001b[0m\u001b[0m\n\u001b[1;32m      4\u001b[0m \u001b[0mprint\u001b[0m\u001b[0;34m(\u001b[0m\u001b[0mnp\u001b[0m\u001b[0;34m.\u001b[0m\u001b[0mshape\u001b[0m\u001b[0;34m(\u001b[0m\u001b[0mX\u001b[0m\u001b[0;34m)\u001b[0m\u001b[0;34m,\u001b[0m \u001b[0mnp\u001b[0m\u001b[0;34m.\u001b[0m\u001b[0mshape\u001b[0m\u001b[0;34m(\u001b[0m\u001b[0mY\u001b[0m\u001b[0;34m)\u001b[0m\u001b[0;34m)\u001b[0m\u001b[0;34m\u001b[0m\u001b[0;34m\u001b[0m\u001b[0m\n\u001b[0;32m----> 5\u001b[0;31m \u001b[0mX\u001b[0m\u001b[0;34m,\u001b[0m \u001b[0mY\u001b[0m \u001b[0;34m=\u001b[0m \u001b[0mpred\u001b[0m\u001b[0;34m.\u001b[0m\u001b[0mequalise_laps_with_numlaps_innorew\u001b[0m\u001b[0;34m(\u001b[0m\u001b[0mA\u001b[0m\u001b[0;34m,\u001b[0m \u001b[0mX\u001b[0m\u001b[0;34m,\u001b[0m \u001b[0mY\u001b[0m\u001b[0;34m,\u001b[0m \u001b[0;34m'Task1'\u001b[0m\u001b[0;34m)\u001b[0m\u001b[0;34m\u001b[0m\u001b[0;34m\u001b[0m\u001b[0m\n\u001b[0m\u001b[1;32m      6\u001b[0m \u001b[0mprint\u001b[0m\u001b[0;34m(\u001b[0m\u001b[0;34m'Lap Corrected'\u001b[0m\u001b[0;34m,\u001b[0m \u001b[0mnp\u001b[0m\u001b[0;34m.\u001b[0m\u001b[0mshape\u001b[0m\u001b[0;34m(\u001b[0m\u001b[0mX\u001b[0m\u001b[0;34m)\u001b[0m\u001b[0;34m,\u001b[0m \u001b[0mnp\u001b[0m\u001b[0;34m.\u001b[0m\u001b[0mshape\u001b[0m\u001b[0;34m(\u001b[0m\u001b[0mY\u001b[0m\u001b[0;34m)\u001b[0m\u001b[0;34m)\u001b[0m\u001b[0;34m\u001b[0m\u001b[0;34m\u001b[0m\u001b[0m\n",
      "\u001b[0;31mNameError\u001b[0m: name 'pred' is not defined"
     ]
    }
   ],
   "source": [
    "# Get Xdata - calcium data and Ydata - running behavior\n",
    "X = A.Fc3data_dict['Task1'][:, A.Parsed_Behavior['good_running_index'].item()['Task1']].T[:11000, :]\n",
    "Y = A.Parsed_Behavior['good_running_data'].item()['Task1'][:11000]\n",
    "X, Y = equalise_laps_with_numlaps_innorew(A, X, Y, 'Task1', laps_current=, numlaps_topick, E_correction=1,\n",
    "                                           lapcorrectionflag=0, figureflag=1)\n",
    "print('Lap Corrected', np.shape(X), np.shape(Y))"
   ]
  },
  {
   "cell_type": "code",
   "execution_count": null,
   "metadata": {},
   "outputs": [],
   "source": [
    "B = PreBeh(BehaviorData=Y, tracklength=tracklength, trackbins=trackbins)\n",
    "y_cat = B.position_binary"
   ]
  },
  {
   "cell_type": "markdown",
   "metadata": {},
   "source": [
    "### No Rew Data"
   ]
  },
  {
   "cell_type": "code",
   "execution_count": 14,
   "metadata": {},
   "outputs": [
    {
     "name": "stdout",
     "output_type": "stream",
     "text": [
      "Total shape: (8067, 304) (8067, 1)\n",
      "After lick stops: (6973, 304) (6973, 1)\n"
     ]
    }
   ],
   "source": [
    "# Get Xdata - calcium data and Ydata - running behavior\n",
    "X_Norew = A.Fc3data_dict['Task2'][:, A.Parsed_Behavior['good_running_index'].item()['Task2']].T\n",
    "Y_Norew = A.Parsed_Behavior['good_running_data'].item()['Task2']\n",
    "print('Total shape:', np.shape(X_Norew), np.shape(Y_Norew))\n",
    "\n",
    "#Keep frames after lick stops in no reward condition\n",
    "X_Norew, Y_Norew = pred.get_frames_afterlickstops(Imgobj=A, X_norew=X_Norew, Y_norew=Y_Norew)\n",
    "print('After lick stops:', np.shape(X_Norew), np.shape(Y_Norew))"
   ]
  },
  {
   "cell_type": "code",
   "execution_count": 15,
   "metadata": {},
   "outputs": [
    {
     "data": {
      "image/png": "[encoded data removed]",
      "text/plain": [
       "<Figure size 800x240 with 1 Axes>"
      ]
     },
     "metadata": {
      "needs_background": "light"
     },
     "output_type": "display_data"
    }
   ],
   "source": [
    "B = pbd(BehaviorData=Y_Norew, tracklength=tracklength, trackbins=trackbins, trackstart_index=1)\n",
    "y_cat_norew = B.position_binary"
   ]
  },
  {
   "cell_type": "markdown",
   "metadata": {},
   "source": [
    "### Reward2 data"
   ]
  },
  {
   "cell_type": "code",
   "execution_count": 13,
   "metadata": {},
   "outputs": [
    {
     "name": "stdout",
     "output_type": "stream",
     "text": [
      "(6620, 304) (6620, 1)\n",
      "Number of laps being chosen 27\n"
     ]
    },
    {
     "ename": "ValueError",
     "evalue": "n_population should be greater or equal than n_samples, got n_samples > n_population (27 > 19)",
     "output_type": "error",
     "traceback": [
      "\u001b[0;31m---------------------------------------------------------------------------\u001b[0m",
      "\u001b[0;31mValueError\u001b[0m                                Traceback (most recent call last)",
      "\u001b[0;32m<ipython-input-13-ed73eacda288>\u001b[0m in \u001b[0;36m<module>\u001b[0;34m\u001b[0m\n\u001b[1;32m      3\u001b[0m \u001b[0mY_rew2\u001b[0m \u001b[0;34m=\u001b[0m \u001b[0mA\u001b[0m\u001b[0;34m.\u001b[0m\u001b[0mParsed_Behavior\u001b[0m\u001b[0;34m[\u001b[0m\u001b[0;34m'good_running_data'\u001b[0m\u001b[0;34m]\u001b[0m\u001b[0;34m.\u001b[0m\u001b[0mitem\u001b[0m\u001b[0;34m(\u001b[0m\u001b[0;34m)\u001b[0m\u001b[0;34m[\u001b[0m\u001b[0;34m'Task3'\u001b[0m\u001b[0;34m]\u001b[0m\u001b[0;34m\u001b[0m\u001b[0;34m\u001b[0m\u001b[0m\n\u001b[1;32m      4\u001b[0m \u001b[0mprint\u001b[0m\u001b[0;34m(\u001b[0m\u001b[0mnp\u001b[0m\u001b[0;34m.\u001b[0m\u001b[0mshape\u001b[0m\u001b[0;34m(\u001b[0m\u001b[0mX_rew2\u001b[0m\u001b[0;34m)\u001b[0m\u001b[0;34m,\u001b[0m \u001b[0mnp\u001b[0m\u001b[0;34m.\u001b[0m\u001b[0mshape\u001b[0m\u001b[0;34m(\u001b[0m\u001b[0mY_rew2\u001b[0m\u001b[0;34m)\u001b[0m\u001b[0;34m)\u001b[0m\u001b[0;34m\u001b[0m\u001b[0;34m\u001b[0m\u001b[0m\n\u001b[0;32m----> 5\u001b[0;31m \u001b[0mX_rew2\u001b[0m\u001b[0;34m,\u001b[0m \u001b[0mY_rew2\u001b[0m \u001b[0;34m=\u001b[0m \u001b[0mpred\u001b[0m\u001b[0;34m.\u001b[0m\u001b[0mequalise_laps_with_numlaps_innorew\u001b[0m\u001b[0;34m(\u001b[0m\u001b[0mA\u001b[0m\u001b[0;34m,\u001b[0m \u001b[0mX_rew2\u001b[0m\u001b[0;34m,\u001b[0m \u001b[0mY_rew2\u001b[0m\u001b[0;34m,\u001b[0m \u001b[0;34m'Task3'\u001b[0m\u001b[0;34m)\u001b[0m\u001b[0;34m\u001b[0m\u001b[0;34m\u001b[0m\u001b[0m\n\u001b[0m\u001b[1;32m      6\u001b[0m \u001b[0mprint\u001b[0m\u001b[0;34m(\u001b[0m\u001b[0;34m'Lap Corrected'\u001b[0m\u001b[0;34m,\u001b[0m \u001b[0mnp\u001b[0m\u001b[0;34m.\u001b[0m\u001b[0mshape\u001b[0m\u001b[0;34m(\u001b[0m\u001b[0mX_rew2\u001b[0m\u001b[0;34m)\u001b[0m\u001b[0;34m,\u001b[0m \u001b[0mnp\u001b[0m\u001b[0;34m.\u001b[0m\u001b[0mshape\u001b[0m\u001b[0;34m(\u001b[0m\u001b[0mY_rew2\u001b[0m\u001b[0;34m)\u001b[0m\u001b[0;34m)\u001b[0m\u001b[0;34m\u001b[0m\u001b[0;34m\u001b[0m\u001b[0m\n",
      "\u001b[0;32m~/Desktop/NoReward/Scripts/BayesDecoder/RunKeras.py\u001b[0m in \u001b[0;36mequalise_laps_with_numlaps_innorew\u001b[0;34m(Imgobj, X, Y, Tasklabel)\u001b[0m\n\u001b[1;32m     88\u001b[0m         \u001b[0mnumlaps_currenttask\u001b[0m \u001b[0;34m=\u001b[0m \u001b[0mImgobj\u001b[0m\u001b[0;34m.\u001b[0m\u001b[0mParsed_Behavior\u001b[0m\u001b[0;34m[\u001b[0m\u001b[0;34m'numlaps'\u001b[0m\u001b[0;34m]\u001b[0m\u001b[0;34m.\u001b[0m\u001b[0mitem\u001b[0m\u001b[0;34m(\u001b[0m\u001b[0;34m)\u001b[0m\u001b[0;34m[\u001b[0m\u001b[0mTasklabel\u001b[0m\u001b[0;34m]\u001b[0m \u001b[0;34m-\u001b[0m \u001b[0;36m3\u001b[0m\u001b[0;34m\u001b[0m\u001b[0;34m\u001b[0m\u001b[0m\n\u001b[1;32m     89\u001b[0m \u001b[0;34m\u001b[0m\u001b[0m\n\u001b[0;32m---> 90\u001b[0;31m         \u001b[0msamplelaps\u001b[0m \u001b[0;34m=\u001b[0m \u001b[0msample_without_replacement\u001b[0m\u001b[0;34m(\u001b[0m\u001b[0mnumlaps_currenttask\u001b[0m\u001b[0;34m,\u001b[0m \u001b[0mnumlaps_afterlickstops\u001b[0m\u001b[0;34m)\u001b[0m\u001b[0;34m\u001b[0m\u001b[0;34m\u001b[0m\u001b[0m\n\u001b[0m\u001b[1;32m     91\u001b[0m         \u001b[0mlapframes\u001b[0m \u001b[0;34m=\u001b[0m\u001b[0;31m \u001b[0m\u001b[0;31m\\\u001b[0m\u001b[0;34m\u001b[0m\u001b[0;34m\u001b[0m\u001b[0m\n\u001b[1;32m     92\u001b[0m             [scipy.io.loadmat(os.path.join(Imgobj.FolderName, 'Behavior', p))['E'].T for p in Imgobj.PlaceFieldData if\n",
      "\u001b[0;32msklearn/utils/_random.pyx\u001b[0m in \u001b[0;36msklearn.utils._random.sample_without_replacement\u001b[0;34m()\u001b[0m\n",
      "\u001b[0;32msklearn/utils/_random.pyx\u001b[0m in \u001b[0;36msklearn.utils._random.sample_without_replacement\u001b[0;34m()\u001b[0m\n",
      "\u001b[0;32msklearn/utils/_random.pyx\u001b[0m in \u001b[0;36msklearn.utils._random._sample_without_replacement_check_input\u001b[0;34m()\u001b[0m\n",
      "\u001b[0;31mValueError\u001b[0m: n_population should be greater or equal than n_samples, got n_samples > n_population (27 > 19)"
     ]
    }
   ],
   "source": [
    "# Get Xdata - calcium data and Ydata - running behavior\n",
    "X_rew2 = A.Fc3data_dict['Task3'][:, A.Parsed_Behavior['good_running_index'].item()['Task3']].T\n",
    "Y_rew2 = A.Parsed_Behavior['good_running_data'].item()['Task3']\n",
    "print(np.shape(X_rew2), np.shape(Y_rew2))\n"
   ]
  },
  {
   "cell_type": "code",
   "execution_count": null,
   "metadata": {},
   "outputs": [],
   "source": [
    "B = pbd(BehaviorData=Y_rew2, tracklength=tracklength, trackbins=trackbins)\n",
    "y_cat_rew2 = B.position_binary"
   ]
  },
  {
   "cell_type": "markdown",
   "metadata": {},
   "source": [
    "### Novel Data"
   ]
  },
  {
   "cell_type": "code",
   "execution_count": null,
   "metadata": {},
   "outputs": [],
   "source": [
    "# Get Xdata - calcium data and Ydata - running behavior\n",
    "X_nov = A.Fc3data_dict['Task4'][:, A.Parsed_Behavior['good_running_index'].item()['Task4']].T\n",
    "Y_nov = A.Parsed_Behavior['good_running_data'].item()['Task4']\n",
    "print(np.shape(X_nov), np.shape(Y_nov))\n",
    "X_nov, Y_nov = pred.equalise_laps_with_numlaps_innorew(A, X_nov, Y_nov, 'Task4')\n",
    "print('Lap Corrected', np.shape(X_nov), np.shape(Y_nov))"
   ]
  },
  {
   "cell_type": "code",
   "execution_count": null,
   "metadata": {},
   "outputs": [],
   "source": [
    "B = pbd(BehaviorData=Y_nov, tracklength=tracklength, trackbins=trackbins)\n",
    "y_cat_nov = B.position_binary"
   ]
  },
  {
   "cell_type": "markdown",
   "metadata": {},
   "source": [
    "## Run Bayes on each data seperately "
   ]
  },
  {
   "cell_type": "code",
   "execution_count": null,
   "metadata": {},
   "outputs": [],
   "source": [
    "X_data = [X, X_Norew, X_rew2, X_nov]\n",
    "Y_data = [y_cat, y_cat_norew, y_cat_rew2, y_cat_nov]\n",
    "TaskName = task_dict.keys()"
   ]
  },
  {
   "cell_type": "code",
   "execution_count": null,
   "metadata": {
    "scrolled": true
   },
   "outputs": [],
   "source": [
    "for x, y, t in zip(X_data, Y_data, TaskName):\n",
    "    print('Decoding...', task_dict[t])\n",
    "    X_train, X_test, y_train, y_test = train_test_split(x, y, test_size=0.10, random_state=None, shuffle=False)\n",
    "    print(np.shape(X_train), np.shape(X_test), np.shape(y_train), np.shape(y_test))\n",
    "    gaussianNB = nb.fit_naivebayes(X_train, y_train)\n",
    "    scores, y_predicted, y_errorprob = nb.validate_model(gaussianNB, X_test, y_test)\n",
    "    m.plot_accuracy_scatterplot(y_test, y_predicted, trackbins)\n",
    "    R2 = m.get_R2(y_test, y_predicted)\n",
    "    rho = m.get_rho(y_test, y_predicted)\n",
    "    print(f'R2: %.2f' %R2)\n",
    "    print(f'rho: %.2f\\n\\n' %rho)"
   ]
  },
  {
   "cell_type": "markdown",
   "metadata": {},
   "source": [
    "## Prediction accuracy with number of cells for all tasks"
   ]
  },
  {
   "cell_type": "markdown",
   "metadata": {},
   "source": [
    "### Control data"
   ]
  },
  {
   "cell_type": "code",
   "execution_count": null,
   "metadata": {
    "scrolled": true
   },
   "outputs": [],
   "source": [
    "numsamples, R2_numcells_dict_cntrl, rho_numcells_dict_cntrl = nb.decoderaccuracy_wtih_numcells(X_data=X, Y_data=y_cat, iterations=100)"
   ]
  },
  {
   "cell_type": "code",
   "execution_count": null,
   "metadata": {},
   "outputs": [],
   "source": [
    "mean_R2_cntrl, sem_R2_cntrl = nb.plot_decoderaccuracy_with_numcells(R2_numcells_dict_cntrl, numsamples)"
   ]
  },
  {
   "cell_type": "markdown",
   "metadata": {},
   "source": [
    "### No reward data"
   ]
  },
  {
   "cell_type": "code",
   "execution_count": null,
   "metadata": {},
   "outputs": [],
   "source": [
    "numsamples, R2_numcells_dict_norew, rho_numcells_dict_norew = nb.decoderaccuracy_wtih_numcells(X_data=X_Norew, Y_data=y_cat_norew, iterations=100)"
   ]
  },
  {
   "cell_type": "code",
   "execution_count": null,
   "metadata": {},
   "outputs": [],
   "source": [
    "mean_R2_norew, sem_R2_norew = nb.plot_decoderaccuracy_with_numcells(R2_numcells_dict_norew, numsamples)"
   ]
  },
  {
   "cell_type": "markdown",
   "metadata": {},
   "source": [
    "### Reward2 data"
   ]
  },
  {
   "cell_type": "code",
   "execution_count": null,
   "metadata": {},
   "outputs": [],
   "source": [
    "numsamples, R2_numcells_dict_rew2, rho_numcells_dict_rew2 = nb.decoderaccuracy_wtih_numcells(X_data=X_rew2, Y_data=y_cat_rew2, iterations=100)"
   ]
  },
  {
   "cell_type": "code",
   "execution_count": null,
   "metadata": {
    "scrolled": true
   },
   "outputs": [],
   "source": [
    "mean_R2_rew2, sem_R2_rew2 = nb.plot_decoderaccuracy_with_numcells(R2_numcells_dict_rew2, numsamples)"
   ]
  },
  {
   "cell_type": "markdown",
   "metadata": {},
   "source": [
    "### Novel Data"
   ]
  },
  {
   "cell_type": "code",
   "execution_count": null,
   "metadata": {},
   "outputs": [],
   "source": [
    "numsamples, R2_numcells_dict_nov, rho_numcells_dict_nov = nb.decoderaccuracy_wtih_numcells(X_data=X_nov, Y_data=y_cat_nov, iterations=100)"
   ]
  },
  {
   "cell_type": "code",
   "execution_count": null,
   "metadata": {},
   "outputs": [],
   "source": [
    "mean_R2_nov, sem_R2_nov = nb.plot_decoderaccuracy_with_numcells(R2_numcells_dict_nov, numsamples)"
   ]
  },
  {
   "cell_type": "markdown",
   "metadata": {},
   "source": [
    "### Plot it all together"
   ]
  },
  {
   "cell_type": "code",
   "execution_count": null,
   "metadata": {},
   "outputs": [],
   "source": [
    "plt.figure(figsize=(5, 3), dpi=100)\n",
    "plt.errorbar(np.arange(np.size(numsamples)), mean_R2_cntrl, yerr=sem_R2_cntrl, color='b', fmt='o-', ecolor='k', capthick=5, linewidth=2, label='Control')\n",
    "plt.errorbar(np.arange(np.size(numsamples)), mean_R2_norew, yerr=sem_R2_norew, color='g', fmt='o-', ecolor='k', capthick=5, linewidth=2, label='Without Reward')\n",
    "plt.errorbar(np.arange(np.size(numsamples)), mean_R2_rew2, yerr=sem_R2_rew2, color='r', fmt='o-', ecolor='k', capthick=5, linewidth=2, label='With Reward2')\n",
    "plt.errorbar(np.arange(np.size(numsamples)), mean_R2_nov, yerr=sem_R2_nov, color='purple', fmt='o-', ecolor='k', capthick=5, linewidth=2, label='Novel')\n",
    "\n",
    "plt.xticks(np.arange(np.size(numsamples)), ['10%', '20%', '50%', '80%', '100%'])\n",
    "plt.xlabel('Percentage of cells used')\n",
    "plt.ylabel('Decoding accuracy');\n",
    "plt.legend(loc='center left', bbox_to_anchor=(1, 0.5))"
   ]
  }
 ],
 "metadata": {
  "kernelspec": {
   "display_name": "Python 3",
   "language": "python",
   "name": "python3"
  },
  "language_info": {
   "codemirror_mode": {
    "name": "ipython",
    "version": 3
   },
   "file_extension": ".py",
   "mimetype": "text/x-python",
   "name": "python",
   "nbconvert_exporter": "python",
   "pygments_lexer": "ipython3",
   "version": "3.7.3"
  },
  "toc": {
   "base_numbering": 1,
   "nav_menu": {},
   "number_sections": true,
   "sideBar": true,
   "skip_h1_title": false,
   "title_cell": "Table of Contents",
   "title_sidebar": "Contents",
   "toc_cell": false,
   "toc_position": {},
   "toc_section_display": true,
   "toc_window_display": true
  }
 },
 "nbformat": 4,
 "nbformat_minor": 2
}
